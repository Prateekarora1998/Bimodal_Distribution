{
 "cells": [
  {
   "cell_type": "markdown",
   "metadata": {},
   "source": [
    "## Neural Network"
   ]
  },
  {
   "cell_type": "code",
   "execution_count": 1,
   "metadata": {},
   "outputs": [],
   "source": [
    "import pandas as pd\n",
    "import numpy as np\n",
    "import torch\n",
    "from sklearn import preprocessing\n",
    "import torch.nn as nn\n",
    "import torch.nn.functional as F\n",
    "from sklearn.model_selection import train_test_split\n",
    "from sklearn.model_selection import KFold\n",
    "import matplotlib.pyplot as plt\n",
    "import seaborn as sns"
   ]
  },
  {
   "cell_type": "markdown",
   "metadata": {},
   "source": [
    "##### Reference - Most of the coding is taken or inspired from the lab 3 solutions in which regression model is been implemented"
   ]
  },
  {
   "cell_type": "markdown",
   "metadata": {},
   "source": [
    "### Encoding"
   ]
  },
  {
   "cell_type": "code",
   "execution_count": 2,
   "metadata": {},
   "outputs": [
    {
     "name": "stderr",
     "output_type": "stream",
     "text": [
      "C:\\Users\\Prateek\\Anaconda3\\lib\\site-packages\\ipykernel_launcher.py:48: SettingWithCopyWarning: \n",
      "A value is trying to be set on a copy of a slice from a DataFrame.\n",
      "Try using .loc[row_indexer,col_indexer] = value instead\n",
      "\n",
      "See the caveats in the documentation: http://pandas.pydata.org/pandas-docs/stable/indexing.html#indexing-view-versus-copy\n"
     ]
    }
   ],
   "source": [
    "# Reference - Most of the coding is taken or inspired from the lab 3 solutions in which regression model is been implemented\n",
    "# Reading the csv files\n",
    "df = pd.read_csv('Comp1111_data_csv.csv')\n",
    "df = df[2:]\n",
    "df = df.drop(columns=['Regno','ES'])\n",
    "\n",
    "# Preprocessing\n",
    "le = preprocessing.LabelEncoder()\n",
    "df['Tutgroup'] = le.fit_transform(df['Tutgroup'])\n",
    "df.reset_index(inplace = True)\n",
    "\n",
    "le = preprocessing.LabelEncoder()\n",
    "df['Crse/Prog'] = le.fit_transform(df['Crse/Prog'])\n",
    "df.reset_index(inplace = True)\n",
    "\n",
    "#Replacing '.' to zeros\n",
    "df = df.replace(to_replace= '.' , value = 0)\n",
    "\n",
    "# String to numeric Conversion\n",
    "df['S'] = pd.to_numeric(df['S'])\n",
    "df['lab2'] = pd.to_numeric(df['lab2'])\n",
    "df['Unnamed: 6'] = pd.to_numeric(df['Unnamed: 6'])\n",
    "df['lab4'] = pd.to_numeric(df['lab4'])\n",
    "df['Unnamed: 8'] = pd.to_numeric(df['Unnamed: 8'])\n",
    "df['h2'] = pd.to_numeric(df['h2'])\n",
    "df['Unnamed: 10'] = pd.to_numeric(df['Unnamed: 10'])\n",
    "df['p1'] = pd.to_numeric(df['p1'])\n",
    "df['Unnamed: 12'] = pd.to_numeric(df['Unnamed: 12'])\n",
    "df['mid'] = pd.to_numeric(df['mid'])\n",
    "df['Unnamed: 14'] = pd.to_numeric(df['Unnamed: 14'])\n",
    "df['final'] = pd.to_numeric(df['final'])\n",
    "\n",
    "X = df.drop(columns = ['final'])\n",
    "Y = df[['final']]\n",
    "\n",
    "# Normalization\n",
    "X['lab2'] = X['lab2'] / 3\n",
    "X['Unnamed: 6'] = X['Unnamed: 6'] / 5\n",
    "X['lab4'] = X['lab4'] / 3\n",
    "X['Unnamed: 8'] = X['Unnamed: 8'] / 20\n",
    "X['h2'] = X['h2'] / 20\n",
    "X['Unnamed: 10'] = X['Unnamed: 10'] / 3\n",
    "X['p1'] = X['p1'] / 20\n",
    "X['Unnamed: 12'] = X['Unnamed: 12'] / 20\n",
    "X['mid'] = X['mid'] / 45\n",
    "X['Unnamed: 14'] = X['Unnamed: 14'] / 3\n",
    "\n",
    "Y['final'] = Y['final']/100\n",
    "X = X.drop(columns = ['level_0','index'])"
   ]
  },
  {
   "cell_type": "code",
   "execution_count": 3,
   "metadata": {},
   "outputs": [],
   "source": [
    "# Reference - Most of the coding is taken or inspired from the lab 3 solutions in which regression model is been implemented\n",
    "X_train1, X_test1, Y_train1, Y_test1 = train_test_split(X, Y, test_size=0.2, random_state=42)\n",
    "\n",
    "X = X_train1.values\n",
    "\n",
    "Y = Y_train1.values\n",
    "\n",
    "# Converting dataframes values to tensor\n",
    "X_test1_tensor = torch.Tensor(X_test1.values).float()\n",
    "Y_test1_tensor = torch.Tensor(Y_test1.values).float()"
   ]
  },
  {
   "cell_type": "code",
   "execution_count": 4,
   "metadata": {},
   "outputs": [],
   "source": [
    "# Reference - Most of the coding is taken or inspired from the lab 3 solutions in which regression model is been implemented\n",
    "feature_size = X_train1.shape[1]\n",
    "hidden_layes = 15\n",
    "hidden_layes_1 = 10\n",
    "learning_rate = 1e-2\n",
    "epochs = 500\n",
    "\n",
    "# Regression class model\n",
    "class Regression_Net(nn.Module):\n",
    "    def __init__(self,feature_size, hidden, hidden_1,n_output):\n",
    "        super(Regression_Net, self).__init__()\n",
    "        self.layer_1 = nn.Linear(feature_size,hidden)\n",
    "        self.layer_2 = nn.Linear(hidden, hidden_1)\n",
    "        self.layer_3 = nn.Linear(hidden_1,n_output)\n",
    "        \n",
    "    def forward(self,x):\n",
    "        fc = self.layer_1(x)\n",
    "        x = (fc)\n",
    "        x = (self.layer_2(x))\n",
    "        output_layer = (self.layer_3(x))\n",
    "        return output_layer\n",
    "    \n",
    "regression_neural_network = Regression_Net(feature_size,hidden_layes,hidden_layes_1,n_output=1)\n",
    "#optimizer\n",
    "optimizer = torch.optim.Adam(regression_neural_network.parameters(),lr = 1e-4)\n",
    "# Loss function\n",
    "loss_function = nn.MSELoss()"
   ]
  },
  {
   "cell_type": "markdown",
   "metadata": {},
   "source": [
    "#### Training of the model"
   ]
  },
  {
   "cell_type": "code",
   "execution_count": 5,
   "metadata": {},
   "outputs": [
    {
     "name": "stdout",
     "output_type": "stream",
     "text": [
      "Training error at 1 epoch is 0.3776305615901947\n"
     ]
    },
    {
     "name": "stderr",
     "output_type": "stream",
     "text": [
      "C:\\Users\\Prateek\\Anaconda3\\lib\\site-packages\\scipy\\stats\\stats.py:1713: FutureWarning: Using a non-tuple sequence for multidimensional indexing is deprecated; use `arr[tuple(seq)]` instead of `arr[seq]`. In the future this will be interpreted as an array index, `arr[np.array(seq)]`, which will result either in an error or a different result.\n",
      "  return np.add.reduce(sorted[indexer] * weights, axis=axis) / sumval\n"
     ]
    },
    {
     "data": {
      "image/png": "[encoded data removed]",
      "text/plain": [
       "<Figure size 432x288 with 1 Axes>"
      ]
     },
     "metadata": {
      "needs_background": "light"
     },
     "output_type": "display_data"
    },
    {
     "name": "stdout",
     "output_type": "stream",
     "text": [
      "Training error at 100 epoch is 0.051100414246320724\n"
     ]
    },
    {
     "data": {
      "image/png": "[encoded data removed]",
      "text/plain": [
       "<Figure size 432x288 with 1 Axes>"
      ]
     },
     "metadata": {
      "needs_background": "light"
     },
     "output_type": "display_data"
    },
    {
     "name": "stdout",
     "output_type": "stream",
     "text": [
      "Training error at 200 epoch is 0.04178202152252197\n"
     ]
    },
    {
     "data": {
      "image/png": "[encoded data removed]",
      "text/plain": [
       "<Figure size 432x288 with 1 Axes>"
      ]
     },
     "metadata": {
      "needs_background": "light"
     },
     "output_type": "display_data"
    },
    {
     "name": "stdout",
     "output_type": "stream",
     "text": [
      "Training error at 300 epoch is 0.033965010195970535\n"
     ]
    },
    {
     "data": {
      "image/png": "[encoded data removed]",
      "text/plain": [
       "<Figure size 432x288 with 1 Axes>"
      ]
     },
     "metadata": {
      "needs_background": "light"
     },
     "output_type": "display_data"
    },
    {
     "name": "stdout",
     "output_type": "stream",
     "text": [
      "Training error at 400 epoch is 0.027345331385731697\n"
     ]
    },
    {
     "data": {
      "image/png": "[encoded data removed]",
      "text/plain": [
       "<Figure size 432x288 with 1 Axes>"
      ]
     },
     "metadata": {
      "needs_background": "light"
     },
     "output_type": "display_data"
    }
   ],
   "source": [
    "# Reference - Most of the coding is taken or inspired from the lab 3 solutions in which regression model is been implemented\n",
    "X_train_tensor = torch.Tensor(X_train1.values).float()\n",
    "Y_train_tensor = torch.Tensor(Y_train1.values).float()\n",
    "\n",
    "losses_array1 = []\n",
    "\n",
    "for ep in range(epochs):\n",
    "    train_prediction = regression_neural_network(X_train_tensor)\n",
    "\n",
    "    loss = loss_function(train_prediction,Y_train_tensor)\n",
    "    \n",
    "    losses_array1.append(loss.item()) # Appending the loss to an array\n",
    "    \n",
    "    if ep == 1:\n",
    "        print(\"Training error at\",ep,\"epoch is\",losses_array1[ep])\n",
    "        sns.distplot(losses_array1) # Plotting of the graph\n",
    "        plt.title(\"Error distribution at epoch 1\")\n",
    "        plt.ylabel(\"Frequency\")\n",
    "        plt.show()\n",
    "    \n",
    "    if ep == 100:\n",
    "        print(\"Training error at\",ep,\"epoch is\",losses_array1[ep])\n",
    "        sns.distplot(losses_array1) # Plotting of the graph\n",
    "        plt.title(\"Error distribution at epoch 100\")\n",
    "        plt.ylabel(\"Frequency\")\n",
    "        plt.show()\n",
    "        \n",
    "    if ep == 200 :\n",
    "        print(\"Training error at\",ep,\"epoch is\",losses_array1[ep])\n",
    "        sns.distplot(losses_array1) # Plotting of the graph\n",
    "        plt.title(\"Error distribution at epoch 200\")\n",
    "        plt.ylabel(\"Frequency\")\n",
    "        plt.show()\n",
    "        \n",
    "    if ep == 300 :\n",
    "        print(\"Training error at\",ep,\"epoch is\",losses_array1[ep])\n",
    "        sns.distplot(losses_array1) # Plotting of the graph\n",
    "        plt.title(\"Error distribution at epoch 300\")\n",
    "        plt.ylabel(\"Frequency\")\n",
    "        plt.show()\n",
    "        \n",
    "    if ep == 400 :\n",
    "        print(\"Training error at\",ep,\"epoch is\",losses_array1[ep])\n",
    "        sns.distplot(losses_array1) # Plotting of the graph\n",
    "        plt.title(\"Error distribution at epoch 400\")\n",
    "        plt.ylabel(\"Frequency\")\n",
    "        plt.show()\n",
    "\n",
    "    optimizer.zero_grad()\n",
    "\n",
    "    loss.backward()\n",
    "\n",
    "    optimizer.step()"
   ]
  },
  {
   "cell_type": "markdown",
   "metadata": {},
   "source": [
    "#### Testing of the model"
   ]
  },
  {
   "cell_type": "code",
   "execution_count": 6,
   "metadata": {},
   "outputs": [
    {
     "name": "stdout",
     "output_type": "stream",
     "text": [
      "test loss: 0.030787\n"
     ]
    }
   ],
   "source": [
    "# Reference - Most of the coding is taken or inspired from the lab 3 solutions in which regression model is been implemented\n",
    "test_prediction = regression_neural_network(X_test1_tensor)\n",
    "loss_on_test_data = loss_function(test_prediction,Y_test1_tensor)\n",
    "print('test loss: %f' % loss_on_test_data.item())"
   ]
  },
  {
   "cell_type": "markdown",
   "metadata": {},
   "source": [
    "## Neural network using BDR"
   ]
  },
  {
   "cell_type": "markdown",
   "metadata": {},
   "source": [
    "### Encoding"
   ]
  },
  {
   "cell_type": "code",
   "execution_count": 7,
   "metadata": {},
   "outputs": [
    {
     "name": "stderr",
     "output_type": "stream",
     "text": [
      "C:\\Users\\Prateek\\Anaconda3\\lib\\site-packages\\ipykernel_launcher.py:47: SettingWithCopyWarning: \n",
      "A value is trying to be set on a copy of a slice from a DataFrame.\n",
      "Try using .loc[row_indexer,col_indexer] = value instead\n",
      "\n",
      "See the caveats in the documentation: http://pandas.pydata.org/pandas-docs/stable/indexing.html#indexing-view-versus-copy\n"
     ]
    }
   ],
   "source": [
    "# Reference - Most of the coding is taken or inspired from the lab 3 solutions in which regression model is been implemented\n",
    "# Reading the csv files\n",
    "df = pd.read_csv('Comp1111_data_csv.csv')\n",
    "df = df[2:]\n",
    "df = df.drop(columns=['Regno','ES'])\n",
    "\n",
    "# Preprocessing\n",
    "le = preprocessing.LabelEncoder()\n",
    "df['Tutgroup'] = le.fit_transform(df['Tutgroup'])\n",
    "df.reset_index(inplace = True)\n",
    "\n",
    "le = preprocessing.LabelEncoder()\n",
    "df['Crse/Prog'] = le.fit_transform(df['Crse/Prog'])\n",
    "df.reset_index(inplace = True)\n",
    "\n",
    "#Replacing '.' to zeros\n",
    "df = df.replace(to_replace= '.' , value = 0)\n",
    "# String to numeric Conversion\n",
    "df['S'] = pd.to_numeric(df['S'])\n",
    "df['lab2'] = pd.to_numeric(df['lab2'])\n",
    "df['Unnamed: 6'] = pd.to_numeric(df['Unnamed: 6'])\n",
    "df['lab4'] = pd.to_numeric(df['lab4'])\n",
    "df['Unnamed: 8'] = pd.to_numeric(df['Unnamed: 8'])\n",
    "df['h2'] = pd.to_numeric(df['h2'])\n",
    "df['Unnamed: 10'] = pd.to_numeric(df['Unnamed: 10'])\n",
    "df['p1'] = pd.to_numeric(df['p1'])\n",
    "df['Unnamed: 12'] = pd.to_numeric(df['Unnamed: 12'])\n",
    "df['mid'] = pd.to_numeric(df['mid'])\n",
    "df['Unnamed: 14'] = pd.to_numeric(df['Unnamed: 14'])\n",
    "df['final'] = pd.to_numeric(df['final'])\n",
    "\n",
    "X = df.drop(columns = ['final'])\n",
    "Y = df[['final']]\n",
    "\n",
    "# Normalization\n",
    "X['lab2'] = X['lab2'] / 3\n",
    "X['Unnamed: 6'] = X['Unnamed: 6'] / 5\n",
    "X['lab4'] = X['lab4'] / 3\n",
    "X['Unnamed: 8'] = X['Unnamed: 8'] / 20\n",
    "X['h2'] = X['h2'] / 20\n",
    "X['Unnamed: 10'] = X['Unnamed: 10'] / 3\n",
    "X['p1'] = X['p1'] / 20\n",
    "X['Unnamed: 12'] = X['Unnamed: 12'] / 20\n",
    "X['mid'] = X['mid'] / 45\n",
    "X['Unnamed: 14'] = X['Unnamed: 14'] / 3\n",
    "\n",
    "Y['final'] = Y['final'] / 100\n",
    "X = X.drop(columns = ['level_0','index'])"
   ]
  },
  {
   "cell_type": "code",
   "execution_count": 8,
   "metadata": {},
   "outputs": [],
   "source": [
    "# Reference - Most of the coding is taken or inspired from the lab 3 solutions in which regression model is been implemented\n",
    "X_train1, X_test1, Y_train1, Y_test1 = train_test_split(X, Y, test_size=0.25, random_state=42)\n",
    "X_train1 = X_train1.reset_index(drop = True)\n",
    "Y_train1 = Y_train1.reset_index(drop=True)"
   ]
  },
  {
   "cell_type": "code",
   "execution_count": 9,
   "metadata": {},
   "outputs": [],
   "source": [
    "# Reference - Most of the coding is taken or inspired from the lab 3 solutions in which regression model is been implemented\n",
    "Training_set_index = X_train1.index\n",
    "Testing_set_index = Y_train1.index"
   ]
  },
  {
   "cell_type": "code",
   "execution_count": 10,
   "metadata": {},
   "outputs": [],
   "source": [
    "# Reference - Most of the coding is taken or inspired from the lab 3 solutions in which regression model is been implemented\n",
    "feature_size = X_train1.shape[1]\n",
    "hidden_layes = 15\n",
    "hidden_layes_1 = 10\n",
    "learning_rate = 1e-2\n",
    "epochs = 500\n",
    "\n",
    "# Regression class model\n",
    "class Regression_Net(nn.Module):\n",
    "    def __init__(self,feature_size, hidden, hidden_1,n_output):\n",
    "        super(Regression_Net, self).__init__()\n",
    "        self.layer_1 = nn.Linear(feature_size,hidden)\n",
    "        self.layer_2 = nn.Linear(hidden, hidden_1)\n",
    "        self.layer_3 = nn.Linear(hidden_1,n_output)\n",
    "        \n",
    "    def forward(self,x):\n",
    "        fc = self.layer_1(x)\n",
    "        x = (fc)\n",
    "        x = (self.layer_2(x))\n",
    "        output_layer = (self.layer_3(x))\n",
    "        return output_layer\n",
    "    \n",
    "regression_neural_network = Regression_Net(feature_size,hidden_layes,hidden_layes_1,n_output=1)\n",
    "#optimizer\n",
    "optimizer = torch.optim.Adam(regression_neural_network.parameters(),lr = 1e-4)\n",
    "# Loss function\n",
    "loss_function = nn.MSELoss()"
   ]
  },
  {
   "cell_type": "markdown",
   "metadata": {},
   "source": [
    "### Applying BDR on the training set"
   ]
  },
  {
   "cell_type": "code",
   "execution_count": 11,
   "metadata": {},
   "outputs": [
    {
     "name": "stdout",
     "output_type": "stream",
     "text": [
      "Training error at 100 is 0.18990333378314972\n",
      "Epoch Number 100\n",
      "Mean error 0.381531\n",
      "Standard deviation error 0.2105646\n",
      "Threshold error 0.4868132993578911\n",
      "Number of data points removed from the dataset at 100 epoch is 40\n",
      "\n",
      "\n"
     ]
    },
    {
     "data": {
      "image/png": "[encoded data removed]",
      "text/plain": [
       "<Figure size 432x288 with 1 Axes>"
      ]
     },
     "metadata": {
      "needs_background": "light"
     },
     "output_type": "display_data"
    },
    {
     "name": "stdout",
     "output_type": "stream",
     "text": [
      "Training error at 200 is 0.03849923610687256\n",
      "Epoch Number 200\n",
      "Mean error 0.16774964\n",
      "Standard deviation error 0.10178062\n",
      "Threshold error 0.21863995492458344\n",
      "Number of data points removed from the dataset at 200 epoch is 22\n",
      "\n",
      "\n"
     ]
    },
    {
     "data": {
      "image/png": "[encoded data removed]",
      "text/plain": [
       "<Figure size 432x288 with 1 Axes>"
      ]
     },
     "metadata": {
      "needs_background": "light"
     },
     "output_type": "display_data"
    }
   ],
   "source": [
    "# Reference - Most of the coding is taken or inspired from the lab 3 solutions in which regression model is been implemented\n",
    "losses_array = []\n",
    "variance_array = []\n",
    "\n",
    "for ep in range(epochs):\n",
    "    new_index = []\n",
    "    loss_array = []\n",
    "    X_train_tensor = torch.Tensor(X_train1.values).float()\n",
    "    Y_train_tensor = torch.Tensor(Y_train1.values).float()\n",
    "    \n",
    "    train_prediction = regression_neural_network(X_train_tensor)\n",
    "    loss = loss_function(train_prediction,Y_train_tensor)\n",
    "    losses_array.append(loss.item())\n",
    "    \n",
    "    if (ep % 100 == 0 and ep > 0) :\n",
    "        loss_array = (Y_train_tensor - train_prediction).detach().numpy()\n",
    "        loss_array = np.abs(loss_array)\n",
    "        variance = np.var(loss_array)\n",
    "        variance_array.append(variance)\n",
    "        if variance <= 0.01:\n",
    "             break\n",
    "        else:\n",
    "            mean_error = np.mean(loss_array)\n",
    "            standard_error = np.std(loss_array)\n",
    "            threshold_error = mean_error + 0.5*standard_error\n",
    "            print(\"Training error at\",ep,\"is\",losses_array[-1])\n",
    "            print(\"Epoch Number\",ep)\n",
    "            print(\"Mean error\",mean_error)\n",
    "            print(\"Standard deviation error\",standard_error)\n",
    "            print(\"Threshold error\",threshold_error)\n",
    "            \n",
    "            for t in range(len(loss_array)):\n",
    "                if (loss_array[t] >= threshold_error):\n",
    "                    new_index.append(t)\n",
    "                    \n",
    "        X_train1 = X_train1.drop(new_index)\n",
    "        X_train1 = X_train1.reset_index(drop = True)\n",
    "        Y_train1 = Y_train1.drop(new_index)\n",
    "        Y_train1 = Y_train1.reset_index(drop = True)\n",
    "        print(\"Number of data points removed from the dataset at\",ep, \"epoch is\",len(new_index))\n",
    "        print(\"\\n\")\n",
    "        sns.distplot(loss_array) # Plotting of the graph\n",
    "        plt.title(\"Error distribution at epoch \"+ str(ep))\n",
    "        plt.ylabel(\"Frequency\")\n",
    "        plt.show()\n",
    " \n",
    "        \n",
    "    optimizer.zero_grad()\n",
    "\n",
    "    loss.backward()\n",
    "\n",
    "    optimizer.step()"
   ]
  },
  {
   "cell_type": "markdown",
   "metadata": {},
   "source": [
    "### Testing of the model"
   ]
  },
  {
   "cell_type": "code",
   "execution_count": 12,
   "metadata": {},
   "outputs": [
    {
     "name": "stdout",
     "output_type": "stream",
     "text": [
      "test loss: 0.065668\n"
     ]
    }
   ],
   "source": [
    "# Reference - Most of the coding is taken or inspired from the lab 3 solutions in which regression model is been implemented\n",
    "test_prediction = regression_neural_network(X_test1_tensor)\n",
    "loss_on_test_data = loss_function(test_prediction,Y_test1_tensor)\n",
    "print('test loss: %f' % loss_on_test_data.item())"
   ]
  },
  {
   "cell_type": "markdown",
   "metadata": {},
   "source": [
    "### Error graph between the feed forward neural network and the feed forward neural network with BDR algorithm applied"
   ]
  },
  {
   "cell_type": "code",
   "execution_count": 13,
   "metadata": {},
   "outputs": [
    {
     "data": {
      "image/png": "[encoded data removed]",
      "text/plain": [
       "<Figure size 432x288 with 1 Axes>"
      ]
     },
     "metadata": {
      "needs_background": "light"
     },
     "output_type": "display_data"
    }
   ],
   "source": [
    "# Reference - Most of the coding is taken or inspired from the lab 3 solutions in which regression model is been implemented\n",
    "plt.plot(losses_array1)\n",
    "plt.plot(losses_array)\n",
    "plt.xlabel(\"Epochs\")\n",
    "plt.ylabel(\"Loss\")\n",
    "plt.show()"
   ]
  },
  {
   "cell_type": "markdown",
   "metadata": {},
   "source": [
    "## Applying BDR on dataset intially and then applying train and test on that dataset"
   ]
  },
  {
   "cell_type": "markdown",
   "metadata": {},
   "source": [
    "### Applying BDR"
   ]
  },
  {
   "cell_type": "markdown",
   "metadata": {},
   "source": [
    "### Encoding"
   ]
  },
  {
   "cell_type": "code",
   "execution_count": 14,
   "metadata": {},
   "outputs": [
    {
     "name": "stderr",
     "output_type": "stream",
     "text": [
      "C:\\Users\\Prateek\\Anaconda3\\lib\\site-packages\\ipykernel_launcher.py:47: SettingWithCopyWarning: \n",
      "A value is trying to be set on a copy of a slice from a DataFrame.\n",
      "Try using .loc[row_indexer,col_indexer] = value instead\n",
      "\n",
      "See the caveats in the documentation: http://pandas.pydata.org/pandas-docs/stable/indexing.html#indexing-view-versus-copy\n"
     ]
    }
   ],
   "source": [
    "# Reference - Most of the coding is taken or inspired from the lab 3 solutions in which regression model is been implemented\n",
    "# Reading the csv files\n",
    "df = pd.read_csv('Comp1111_data_csv.csv')\n",
    "df = df[2:]\n",
    "df = df.drop(columns=['Regno','ES'])\n",
    "\n",
    "# Preprocessing\n",
    "le = preprocessing.LabelEncoder()\n",
    "df['Tutgroup'] = le.fit_transform(df['Tutgroup'])\n",
    "df.reset_index(inplace = True)\n",
    "\n",
    "le = preprocessing.LabelEncoder()\n",
    "df['Crse/Prog'] = le.fit_transform(df['Crse/Prog'])\n",
    "df.reset_index(inplace = True)\n",
    "\n",
    "#Replacing '.' to zeros\n",
    "df = df.replace(to_replace= '.' , value = 0)\n",
    "# String to numeric Conversion\n",
    "df['S'] = pd.to_numeric(df['S'])\n",
    "df['lab2'] = pd.to_numeric(df['lab2'])\n",
    "df['Unnamed: 6'] = pd.to_numeric(df['Unnamed: 6'])\n",
    "df['lab4'] = pd.to_numeric(df['lab4'])\n",
    "df['Unnamed: 8'] = pd.to_numeric(df['Unnamed: 8'])\n",
    "df['h2'] = pd.to_numeric(df['h2'])\n",
    "df['Unnamed: 10'] = pd.to_numeric(df['Unnamed: 10'])\n",
    "df['p1'] = pd.to_numeric(df['p1'])\n",
    "df['Unnamed: 12'] = pd.to_numeric(df['Unnamed: 12'])\n",
    "df['mid'] = pd.to_numeric(df['mid'])\n",
    "df['Unnamed: 14'] = pd.to_numeric(df['Unnamed: 14'])\n",
    "df['final'] = pd.to_numeric(df['final'])\n",
    "\n",
    "X = df.drop(columns = ['final'])\n",
    "Y = df[['final']]\n",
    "\n",
    "# Normalization\n",
    "X['lab2'] = X['lab2'] / 3\n",
    "X['Unnamed: 6'] = X['Unnamed: 6'] / 5\n",
    "X['lab4'] = X['lab4'] / 3\n",
    "X['Unnamed: 8'] = X['Unnamed: 8'] / 20\n",
    "X['h2'] = X['h2'] / 20\n",
    "X['Unnamed: 10'] = X['Unnamed: 10'] / 3\n",
    "X['p1'] = X['p1'] / 20\n",
    "X['Unnamed: 12'] = X['Unnamed: 12'] / 20\n",
    "X['mid'] = X['mid'] / 45\n",
    "X['Unnamed: 14'] = X['Unnamed: 14'] / 3\n",
    "\n",
    "Y['final'] = Y['final']/100\n",
    "X = X.drop(columns = ['level_0','index'])"
   ]
  },
  {
   "cell_type": "code",
   "execution_count": 15,
   "metadata": {},
   "outputs": [],
   "source": [
    "# Reference - Most of the coding is taken or inspired from the lab 3 solutions in which regression model is been implemented\n",
    "X_train1, X_test1, Y_train1, Y_test1 = train_test_split(X, Y, test_size= 0, random_state=42)\n",
    "X_train1 = X_train1.reset_index(drop = True)\n",
    "Y_train1 = Y_train1.reset_index(drop=True)"
   ]
  },
  {
   "cell_type": "code",
   "execution_count": 16,
   "metadata": {},
   "outputs": [],
   "source": [
    "# Reference - Most of the coding is taken or inspired from the lab 3 solutions in which regression model is been implemented\n",
    "feature_size = X_train1.shape[1]\n",
    "hidden_layes = 15\n",
    "hidden_layes_1 = 10\n",
    "learning_rate = 1e-2\n",
    "epochs = 500\n",
    "\n",
    "# Regression class model\n",
    "class Regression_Net(nn.Module):\n",
    "    def __init__(self,feature_size, hidden, hidden_1,n_output):\n",
    "        super(Regression_Net, self).__init__()\n",
    "        self.layer_1 = nn.Linear(feature_size,hidden)\n",
    "        self.layer_2 = nn.Linear(hidden, hidden_1)\n",
    "        self.layer_3 = nn.Linear(hidden_1,n_output)\n",
    "        \n",
    "    def forward(self,x):\n",
    "        fc = self.layer_1(x)\n",
    "        x = (fc)\n",
    "        x = (self.layer_2(x))\n",
    "        output_layer = (self.layer_3(x))\n",
    "        return output_layer\n",
    "    \n",
    "regression_neural_network = Regression_Net(feature_size,hidden_layes,hidden_layes_1,n_output=1)\n",
    "#optimizer\n",
    "optimizer = torch.optim.Adam(regression_neural_network.parameters(),lr = 1e-4)\n",
    "# Loss function\n",
    "loss_function = nn.MSELoss()"
   ]
  },
  {
   "cell_type": "markdown",
   "metadata": {},
   "source": [
    "### Applying the BDR algorithm"
   ]
  },
  {
   "cell_type": "code",
   "execution_count": 17,
   "metadata": {},
   "outputs": [
    {
     "name": "stdout",
     "output_type": "stream",
     "text": [
      "Training error at 50 is 0.25965946912765503\n",
      "Epoch Number 50\n",
      "Mean error 0.46656546\n",
      "Standard deviation error 0.20488086\n",
      "Threshold error 0.5485178053379058\n",
      "Number of data points removed from the dataset at 50 epoch is 54\n",
      "\n",
      "\n"
     ]
    },
    {
     "data": {
      "image/png": "[encoded data removed]",
      "text/plain": [
       "<Figure size 432x288 with 1 Axes>"
      ]
     },
     "metadata": {
      "needs_background": "light"
     },
     "output_type": "display_data"
    },
    {
     "name": "stdout",
     "output_type": "stream",
     "text": [
      "Training error at 100 is 0.07670805603265762\n",
      "Epoch Number 100\n",
      "Mean error 0.2491469\n",
      "Standard deviation error 0.12097058\n",
      "Threshold error 0.2975351244211197\n",
      "Number of data points removed from the dataset at 100 epoch is 38\n",
      "\n",
      "\n"
     ]
    },
    {
     "data": {
      "image/png": "[encoded data removed]",
      "text/plain": [
       "<Figure size 432x288 with 1 Axes>"
      ]
     },
     "metadata": {
      "needs_background": "light"
     },
     "output_type": "display_data"
    }
   ],
   "source": [
    "# Reference - Most of the coding is taken or inspired from the lab 3 solutions in which regression model is been implemented\n",
    "losses_array = []\n",
    "variance_array = []\n",
    "\n",
    "for ep in range(epochs):\n",
    "    new_index = []\n",
    "    loss_array = []\n",
    "    X_train_tensor = torch.Tensor(X_train1.values).float()\n",
    "    Y_train_tensor = torch.Tensor(Y_train1.values).float()\n",
    "    \n",
    "    train_prediction = regression_neural_network(X_train_tensor)\n",
    "    loss = loss_function(train_prediction,Y_train_tensor)\n",
    "    losses_array.append(loss.item())\n",
    "    \n",
    "    if (ep % 50 == 0 and ep > 0) :\n",
    "        loss_array = (Y_train_tensor - train_prediction).detach().numpy()\n",
    "        loss_array = np.abs(loss_array)\n",
    "        variance = np.var(loss_array)\n",
    "        variance_array.append(variance)\n",
    "        if variance <= 0.01:\n",
    "             break\n",
    "        else:\n",
    "            mean_error = np.mean(loss_array)\n",
    "            standard_error = np.std(loss_array)\n",
    "            threshold_error = mean_error + 0.4*standard_error\n",
    "            print(\"Training error at\",ep,\"is\",losses_array[-1])\n",
    "            print(\"Epoch Number\",ep)\n",
    "            print(\"Mean error\",mean_error)\n",
    "            print(\"Standard deviation error\",standard_error)\n",
    "            print(\"Threshold error\",threshold_error)\n",
    "            \n",
    "            for t in range(len(loss_array)):\n",
    "                if (loss_array[t] >= threshold_error):\n",
    "                    new_index.append(t)\n",
    "                    \n",
    "        X_train1 = X_train1.drop(new_index)\n",
    "        X_train1 = X_train1.reset_index(drop = True)\n",
    "        Y_train1 = Y_train1.drop(new_index)\n",
    "        Y_train1 = Y_train1.reset_index(drop = True)\n",
    "        print(\"Number of data points removed from the dataset at\",ep, \"epoch is\",len(new_index))\n",
    "        print(\"\\n\")\n",
    "        sns.distplot(loss_array) # Plotting of the graph\n",
    "        plt.title(\"Error distribution at epoch \"+ str(ep))\n",
    "        plt.ylabel(\"Frequency\")\n",
    "        plt.show()\n",
    " \n",
    "        \n",
    "    optimizer.zero_grad()\n",
    "\n",
    "    loss.backward()\n",
    "\n",
    "    optimizer.step()"
   ]
  },
  {
   "cell_type": "markdown",
   "metadata": {},
   "source": [
    "#### Now applying Neural network on the new dataset after removing the dataset using BDR algorithm"
   ]
  },
  {
   "cell_type": "code",
   "execution_count": 18,
   "metadata": {},
   "outputs": [],
   "source": [
    "# Reference - Most of the coding is taken or inspired from the lab 3 solutions in which regression model is been implemented\n",
    "X_neural_train, X_neural_test, Y_neural_train, Y_neural_test = train_test_split(X_train1, Y_train1, test_size= 0.2, random_state=42)\n",
    "X_test1_tensor = torch.Tensor(X_neural_test.values).float()\n",
    "Y_test1_tensor = torch.Tensor(Y_neural_test.values).float()"
   ]
  },
  {
   "cell_type": "code",
   "execution_count": 19,
   "metadata": {},
   "outputs": [],
   "source": [
    "# Reference - Most of the coding is taken or inspired from the lab 3 solutions in which regression model is been implemented\n",
    "feature_size = X_train1.shape[1]\n",
    "hidden_layes = 15\n",
    "hidden_layes_1 = 10\n",
    "learning_rate = 1e-2\n",
    "epochs = 500\n",
    "\n",
    "# Regression class model\n",
    "class Regression_Net(nn.Module):\n",
    "    def __init__(self,feature_size, hidden, hidden_1,n_output):\n",
    "        super(Regression_Net, self).__init__()\n",
    "        self.layer_1 = nn.Linear(feature_size,hidden)\n",
    "        self.layer_2 = nn.Linear(hidden, hidden_1)\n",
    "        self.layer_3 = nn.Linear(hidden_1,n_output)\n",
    "        \n",
    "    def forward(self,x):\n",
    "        fc = self.layer_1(x)\n",
    "        x = (fc)\n",
    "        x = (self.layer_2(x))\n",
    "        output_layer = (self.layer_3(x))\n",
    "        return output_layer\n",
    "    \n",
    "regression_neural_network = Regression_Net(feature_size,hidden_layes,hidden_layes_1,n_output=1)\n",
    "#optimizer\n",
    "optimizer = torch.optim.Adam(regression_neural_network.parameters(),lr = 1e-4)\n",
    "# Loss function\n",
    "loss_function = nn.MSELoss()"
   ]
  },
  {
   "cell_type": "markdown",
   "metadata": {},
   "source": [
    "#### Training of the model"
   ]
  },
  {
   "cell_type": "code",
   "execution_count": 20,
   "metadata": {},
   "outputs": [
    {
     "name": "stdout",
     "output_type": "stream",
     "text": [
      "Training error at 0 is 0.38308435678482056\n",
      "Training error at 50 is 0.13775579631328583\n",
      "Training error at 100 is 0.047838278114795685\n",
      "Training error at 150 is 0.026347771286964417\n",
      "Training error at 200 is 0.022755887359380722\n",
      "Training error at 250 is 0.021498240530490875\n",
      "Training error at 300 is 0.020419051870703697\n",
      "Training error at 350 is 0.01939111016690731\n",
      "Training error at 400 is 0.01840967684984207\n",
      "Training error at 450 is 0.017472535371780396\n"
     ]
    }
   ],
   "source": [
    "# Reference - Most of the coding is taken or inspired from the lab 3 solutions in which regression model is been implemented\n",
    "X_train_tensor = torch.Tensor(X_neural_train.values).float()\n",
    "Y_train_tensor = torch.Tensor(Y_neural_train.values).float()\n",
    "\n",
    "losses_array1 = []\n",
    "\n",
    "for ep in range(epochs):\n",
    "    train_prediction = regression_neural_network(X_train_tensor)\n",
    "\n",
    "    loss = loss_function(train_prediction,Y_train_tensor)\n",
    "    \n",
    "    losses_array1.append(loss.item())\n",
    "    \n",
    "    if ep % 50 == 0 :\n",
    "        print(\"Training error at\",ep,\"is\",losses_array1[ep])\n",
    "\n",
    "    optimizer.zero_grad()\n",
    "\n",
    "    loss.backward()\n",
    "\n",
    "    optimizer.step()\n",
    "    "
   ]
  },
  {
   "cell_type": "markdown",
   "metadata": {},
   "source": [
    "#### Testing of the model"
   ]
  },
  {
   "cell_type": "code",
   "execution_count": 21,
   "metadata": {},
   "outputs": [
    {
     "name": "stdout",
     "output_type": "stream",
     "text": [
      "test loss: 0.018416\n"
     ]
    }
   ],
   "source": [
    "# Reference - Most of the coding is taken or inspired from the lab 3 solutions in which regression model is been implemented\n",
    "test_prediction = regression_neural_network(X_test1_tensor)\n",
    "loss_on_test_data = loss_function(test_prediction,Y_test1_tensor)\n",
    "print('test loss: %f' % loss_on_test_data.item())"
   ]
  }
 ],
 "metadata": {
  "kernelspec": {
   "display_name": "Python 3",
   "language": "python",
   "name": "python3"
  },
  "language_info": {
   "codemirror_mode": {
    "name": "ipython",
    "version": 3
   },
   "file_extension": ".py",
   "mimetype": "text/x-python",
   "name": "python",
   "nbconvert_exporter": "python",
   "pygments_lexer": "ipython3",
   "version": "3.7.1"
  }
 },
 "nbformat": 4,
 "nbformat_minor": 2
}
